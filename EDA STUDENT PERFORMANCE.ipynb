{
 "cells": [
  {
   "cell_type": "code",
   "execution_count": 1,
   "id": "e48b372c-f2fb-4334-a6c0-1ba134fd98f0",
   "metadata": {},
   "outputs": [],
   "source": [
    "!python -m venv portfolio_project1"
   ]
  },
  {
   "cell_type": "code",
   "execution_count": 2,
   "id": "83726bb2-3645-47ef-9461-baccce2e402c",
   "metadata": {},
   "outputs": [],
   "source": [
    "! portfolio_project1\\Scripts\\activate"
   ]
  },
  {
   "cell_type": "code",
   "execution_count": 3,
   "id": "c6779752-7c25-4a29-a4a2-3db360ead983",
   "metadata": {},
   "outputs": [
    {
     "name": "stdout",
     "output_type": "stream",
     "text": [
      "Initialized empty Git repository in C:/Users/17737/Documents/END_TO_END_ML_DS_PROJECT_1_PORTFOLIO/.git/\n"
     ]
    }
   ],
   "source": [
    "!git init"
   ]
  },
  {
   "cell_type": "code",
   "execution_count": 4,
   "id": "31d0ceee-5051-4698-a32a-0a147e7e126a",
   "metadata": {},
   "outputs": [],
   "source": [
    "!git add readme.md"
   ]
  },
  {
   "cell_type": "code",
   "execution_count": 6,
   "id": "09f7745d-99d9-414e-8ed3-ac839fb82547",
   "metadata": {},
   "outputs": [
    {
     "name": "stdout",
     "output_type": "stream",
     "text": [
      "[master (root-commit) d0b180a] First commit\n",
      " 1 file changed, 1 insertion(+)\n",
      " create mode 100644 readme.md\n"
     ]
    }
   ],
   "source": [
    "!git commit -m \"First commit\""
   ]
  },
  {
   "cell_type": "code",
   "execution_count": 7,
   "id": "c2a83a7d-c164-4bbf-a6f3-817af35a6efa",
   "metadata": {},
   "outputs": [
    {
     "name": "stdout",
     "output_type": "stream",
     "text": [
      "On branch master\n",
      "Untracked files:\n",
      "  (use \"git add <file>...\" to include in what will be committed)\n",
      "\t.ipynb_checkpoints/\n",
      "\tEDA STUDENT PERFORMANCE.ipynb\n",
      "\tdata/\n",
      "\tportfolio_project1/\n",
      "\n",
      "nothing added to commit but untracked files present (use \"git add\" to track)\n"
     ]
    }
   ],
   "source": [
    "!git status"
   ]
  },
  {
   "cell_type": "code",
   "execution_count": 8,
   "id": "cb9f6556-7709-4569-a4b2-6cb7a501be20",
   "metadata": {},
   "outputs": [],
   "source": [
    "!git branch -M main"
   ]
  },
  {
   "cell_type": "code",
   "execution_count": 9,
   "id": "46593489-f979-4aa1-97c5-cb4545f0740d",
   "metadata": {},
   "outputs": [],
   "source": [
    "!git remote add origin https://github.com/allenhabibovic3/portfolio_project_mlproject1.git"
   ]
  },
  {
   "cell_type": "code",
   "execution_count": 11,
   "id": "9faed586-4ae7-48f6-8c1a-70731543600d",
   "metadata": {},
   "outputs": [
    {
     "name": "stdout",
     "output_type": "stream",
     "text": [
      "origin\thttps://github.com/allenhabibovic3/portfolio_project_mlproject1.git (fetch)\n",
      "origin\thttps://github.com/allenhabibovic3/portfolio_project_mlproject1.git (push)\n"
     ]
    }
   ],
   "source": [
    "!git remote -v"
   ]
  },
  {
   "cell_type": "code",
   "execution_count": 12,
   "id": "0dca0c35-9948-4ba7-b192-8b770014c85a",
   "metadata": {},
   "outputs": [
    {
     "name": "stdout",
     "output_type": "stream",
     "text": [
      "67384514+allenhabibovic3@users.noreply.github.com\n"
     ]
    }
   ],
   "source": [
    "!git config --global user.email"
   ]
  },
  {
   "cell_type": "code",
   "execution_count": 13,
   "id": "e9f9d208-966c-4109-9962-dec46b194e7a",
   "metadata": {},
   "outputs": [
    {
     "name": "stderr",
     "output_type": "stream",
     "text": [
      "To https://github.com/allenhabibovic3/portfolio_project_mlproject1.git\n",
      " * [new branch]      main -> main\n"
     ]
    },
    {
     "name": "stdout",
     "output_type": "stream",
     "text": [
      "branch 'main' set up to track 'origin/main'.\n"
     ]
    }
   ],
   "source": [
    "!git push -u origin main"
   ]
  },
  {
   "cell_type": "code",
   "execution_count": 14,
   "id": "814f14b0-b53c-44e0-829e-5141819e3908",
   "metadata": {},
   "outputs": [
    {
     "name": "stdout",
     "output_type": "stream",
     "text": [
      "Updating d0b180a..7daea21\n",
      "Fast-forward\n",
      " .gitignore | 174 +++++++++++++++++++++++++++++++++++++++++++++++++++++++++++++\n",
      " 1 file changed, 174 insertions(+)\n",
      " create mode 100644 .gitignore\n"
     ]
    },
    {
     "name": "stderr",
     "output_type": "stream",
     "text": [
      "From https://github.com/allenhabibovic3/portfolio_project_mlproject1\n",
      "   d0b180a..7daea21  main       -> origin/main\n"
     ]
    }
   ],
   "source": [
    "!git pull"
   ]
  },
  {
   "cell_type": "code",
   "execution_count": 15,
   "id": "61d1175a-adde-4294-a876-0f42c76e00a8",
   "metadata": {},
   "outputs": [
    {
     "name": "stdout",
     "output_type": "stream",
     "text": [
      "Defaulting to user installation because normal site-packages is not writeable\n",
      "Obtaining file:///C:/Users/17737/Documents/END_TO_END_ML_DS_PROJECT_1_PORTFOLIO (from -r requirements.txt (line 4))\n",
      "  Preparing metadata (setup.py): started\n",
      "  Preparing metadata (setup.py): finished with status 'done'\n",
      "Requirement already satisfied: pandas in c:\\programdata\\anaconda3\\lib\\site-packages (from -r requirements.txt (line 1)) (2.2.2)\n",
      "Requirement already satisfied: numpy in c:\\users\\17737\\appdata\\roaming\\python\\python312\\site-packages (from -r requirements.txt (line 2)) (1.26.4)\n",
      "Requirement already satisfied: seaborn in c:\\programdata\\anaconda3\\lib\\site-packages (from -r requirements.txt (line 3)) (0.13.2)\n",
      "Requirement already satisfied: python-dateutil>=2.8.2 in c:\\programdata\\anaconda3\\lib\\site-packages (from pandas->-r requirements.txt (line 1)) (2.9.0.post0)\n",
      "Requirement already satisfied: pytz>=2020.1 in c:\\programdata\\anaconda3\\lib\\site-packages (from pandas->-r requirements.txt (line 1)) (2024.1)\n",
      "Requirement already satisfied: tzdata>=2022.7 in c:\\programdata\\anaconda3\\lib\\site-packages (from pandas->-r requirements.txt (line 1)) (2023.3)\n",
      "Requirement already satisfied: matplotlib!=3.6.1,>=3.4 in c:\\programdata\\anaconda3\\lib\\site-packages (from seaborn->-r requirements.txt (line 3)) (3.9.2)\n",
      "Requirement already satisfied: contourpy>=1.0.1 in c:\\programdata\\anaconda3\\lib\\site-packages (from matplotlib!=3.6.1,>=3.4->seaborn->-r requirements.txt (line 3)) (1.2.0)\n",
      "Requirement already satisfied: cycler>=0.10 in c:\\programdata\\anaconda3\\lib\\site-packages (from matplotlib!=3.6.1,>=3.4->seaborn->-r requirements.txt (line 3)) (0.11.0)\n",
      "Requirement already satisfied: fonttools>=4.22.0 in c:\\programdata\\anaconda3\\lib\\site-packages (from matplotlib!=3.6.1,>=3.4->seaborn->-r requirements.txt (line 3)) (4.51.0)\n",
      "Requirement already satisfied: kiwisolver>=1.3.1 in c:\\programdata\\anaconda3\\lib\\site-packages (from matplotlib!=3.6.1,>=3.4->seaborn->-r requirements.txt (line 3)) (1.4.4)\n",
      "Requirement already satisfied: packaging>=20.0 in c:\\programdata\\anaconda3\\lib\\site-packages (from matplotlib!=3.6.1,>=3.4->seaborn->-r requirements.txt (line 3)) (24.1)\n",
      "Requirement already satisfied: pillow>=8 in c:\\programdata\\anaconda3\\lib\\site-packages (from matplotlib!=3.6.1,>=3.4->seaborn->-r requirements.txt (line 3)) (10.4.0)\n",
      "Requirement already satisfied: pyparsing>=2.3.1 in c:\\programdata\\anaconda3\\lib\\site-packages (from matplotlib!=3.6.1,>=3.4->seaborn->-r requirements.txt (line 3)) (3.1.2)\n",
      "Requirement already satisfied: six>=1.5 in c:\\programdata\\anaconda3\\lib\\site-packages (from python-dateutil>=2.8.2->pandas->-r requirements.txt (line 1)) (1.16.0)\n",
      "Installing collected packages: portfolio_project1\n",
      "  Running setup.py develop for portfolio_project1\n",
      "Successfully installed portfolio_project1-0.0.1\n"
     ]
    },
    {
     "name": "stderr",
     "output_type": "stream",
     "text": [
      "  DEPRECATION: Legacy editable install of portfolio_project1==0.0.1 from file:///C:/Users/17737/Documents/END_TO_END_ML_DS_PROJECT_1_PORTFOLIO (from -r requirements.txt (line 4)) (setup.py develop) is deprecated. pip 25.0 will enforce this behaviour change. A possible replacement is to add a pyproject.toml or enable --use-pep517, and use setuptools >= 64. If the resulting installation is not behaving as expected, try using --config-settings editable_mode=compat. Please consult the setuptools documentation for more information. Discussion can be found at https://github.com/pypa/pip/issues/11457\n"
     ]
    }
   ],
   "source": [
    "!pip install -r requirements.txt"
   ]
  },
  {
   "cell_type": "code",
   "execution_count": 16,
   "id": "de42b505-5867-441c-ad3d-ac4d6df58978",
   "metadata": {},
   "outputs": [
    {
     "name": "stderr",
     "output_type": "stream",
     "text": [
      "warning: in the working copy of 'EDA STUDENT PERFORMANCE.ipynb', LF will be replaced by CRLF the next time Git touches it\n",
      "warning: in the working copy of 'data/stud.csv', LF will be replaced by CRLF the next time Git touches it\n",
      "warning: in the working copy of 'portfolio_project1/Scripts/activate', LF will be replaced by CRLF the next time Git touches it\n",
      "warning: in the working copy of 'requirements.txt', LF will be replaced by CRLF the next time Git touches it\n",
      "warning: in the working copy of 'setup.py', LF will be replaced by CRLF the next time Git touches it\n"
     ]
    }
   ],
   "source": [
    "!git add ."
   ]
  },
  {
   "cell_type": "code",
   "execution_count": 17,
   "id": "ff0c8b6b-e81f-4833-a3ab-5e780cb91bb6",
   "metadata": {},
   "outputs": [
    {
     "name": "stdout",
     "output_type": "stream",
     "text": [
      "On branch main\n",
      "Your branch is up to date with 'origin/main'.\n",
      "\n",
      "Changes to be committed:\n",
      "  (use \"git restore --staged <file>...\" to unstage)\n",
      "\tnew file:   EDA STUDENT PERFORMANCE.ipynb\n",
      "\tnew file:   data/stud.csv\n",
      "\tnew file:   portfolio_project1/Scripts/Activate.ps1\n",
      "\tnew file:   portfolio_project1/Scripts/activate\n",
      "\tnew file:   portfolio_project1/Scripts/activate.bat\n",
      "\tnew file:   portfolio_project1/Scripts/deactivate.bat\n",
      "\tnew file:   portfolio_project1/Scripts/pip.exe\n",
      "\tnew file:   portfolio_project1/Scripts/pip3.12.exe\n",
      "\tnew file:   portfolio_project1/Scripts/pip3.exe\n",
      "\tnew file:   portfolio_project1/Scripts/python.exe\n",
      "\tnew file:   portfolio_project1/Scripts/pythonw.exe\n",
      "\tnew file:   portfolio_project1/pyvenv.cfg\n",
      "\tnew file:   requirements.txt\n",
      "\tnew file:   setup.py\n",
      "\tnew file:   src/__init__.py\n",
      "\n"
     ]
    }
   ],
   "source": [
    "!git status"
   ]
  },
  {
   "cell_type": "code",
   "execution_count": 18,
   "id": "ea4b6767-9ac6-416c-afe7-f67f5f19a099",
   "metadata": {},
   "outputs": [
    {
     "name": "stdout",
     "output_type": "stream",
     "text": [
      "[main ea232be] setup\n",
      " 15 files changed, 1700 insertions(+)\n",
      " create mode 100644 EDA STUDENT PERFORMANCE.ipynb\n",
      " create mode 100644 data/stud.csv\n",
      " create mode 100644 portfolio_project1/Scripts/Activate.ps1\n",
      " create mode 100644 portfolio_project1/Scripts/activate\n",
      " create mode 100644 portfolio_project1/Scripts/activate.bat\n",
      " create mode 100644 portfolio_project1/Scripts/deactivate.bat\n",
      " create mode 100644 portfolio_project1/Scripts/pip.exe\n",
      " create mode 100644 portfolio_project1/Scripts/pip3.12.exe\n",
      " create mode 100644 portfolio_project1/Scripts/pip3.exe\n",
      " create mode 100644 portfolio_project1/Scripts/python.exe\n",
      " create mode 100644 portfolio_project1/Scripts/pythonw.exe\n",
      " create mode 100644 portfolio_project1/pyvenv.cfg\n",
      " create mode 100644 requirements.txt\n",
      " create mode 100644 setup.py\n",
      " create mode 100644 src/__init__.py\n"
     ]
    }
   ],
   "source": [
    "!git commit -m \"setup\""
   ]
  },
  {
   "cell_type": "code",
   "execution_count": 19,
   "id": "3818770e-32d8-4d23-b939-2535a829c67e",
   "metadata": {},
   "outputs": [
    {
     "name": "stderr",
     "output_type": "stream",
     "text": [
      "To https://github.com/allenhabibovic3/portfolio_project_mlproject1.git\n",
      "   7daea21..ea232be  main -> main\n"
     ]
    }
   ],
   "source": [
    "!git push origin main"
   ]
  },
  {
   "cell_type": "code",
   "execution_count": 20,
   "id": "85366004-97be-4ebb-af6b-c544e95d7a7d",
   "metadata": {},
   "outputs": [],
   "source": [
    "!python src/logger.py"
   ]
  },
  {
   "cell_type": "code",
   "execution_count": 23,
   "id": "7feb316b-5e8b-4269-b160-88f0133ff384",
   "metadata": {},
   "outputs": [
    {
     "name": "stderr",
     "output_type": "stream",
     "text": [
      "  File \"C:\\Users\\17737\\Documents\\END_TO_END_ML_DS_PROJECT_1_PORTFOLIO\\src\\exception.py\", line 26\n",
      "    excep Exception as e:\n",
      "    ^^^^^\n",
      "SyntaxError: expected 'except' or 'finally' block\n"
     ]
    }
   ],
   "source": [
    "!python src/exception.py"
   ]
  },
  {
   "cell_type": "code",
   "execution_count": 24,
   "id": "31b09461-3e7d-479b-ad6a-eeaaf0ce3e17",
   "metadata": {},
   "outputs": [
    {
     "name": "stdout",
     "output_type": "stream",
     "text": [
      "On branch main\n",
      "Your branch is up to date with 'origin/main'.\n",
      "\n",
      "Changes not staged for commit:\n",
      "  (use \"git add <file>...\" to update what will be committed)\n",
      "  (use \"git restore <file>...\" to discard changes in working directory)\n",
      "\tmodified:   EDA STUDENT PERFORMANCE.ipynb\n",
      "\n",
      "Untracked files:\n",
      "  (use \"git add <file>...\" to include in what will be committed)\n",
      "\tsrc/components/\n",
      "\tsrc/exception.py\n",
      "\tsrc/logger.py\n",
      "\tsrc/pipeline/\n",
      "\tsrc/utils.py\n",
      "\n",
      "no changes added to commit (use \"git add\" and/or \"git commit -a\")\n"
     ]
    }
   ],
   "source": [
    "!git status"
   ]
  },
  {
   "cell_type": "code",
   "execution_count": null,
   "id": "bdb66375-cd55-43df-899b-3d716b22ae26",
   "metadata": {},
   "outputs": [],
   "source": []
  }
 ],
 "metadata": {
  "kernelspec": {
   "display_name": "Python 3 (ipykernel)",
   "language": "python",
   "name": "python3"
  },
  "language_info": {
   "codemirror_mode": {
    "name": "ipython",
    "version": 3
   },
   "file_extension": ".py",
   "mimetype": "text/x-python",
   "name": "python",
   "nbconvert_exporter": "python",
   "pygments_lexer": "ipython3",
   "version": "3.12.7"
  }
 },
 "nbformat": 4,
 "nbformat_minor": 5
}
